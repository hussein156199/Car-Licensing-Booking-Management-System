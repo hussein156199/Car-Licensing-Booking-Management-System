{
 "cells": [
  {
   "cell_type": "code",
   "execution_count": null,
   "id": "56573e5d-faad-4692-b202-cbbb3ad73091",
   "metadata": {},
   "outputs": [
    {
     "name": "stdout",
     "output_type": "stream",
     "text": [
      ">>>>>>>>>>  Welcome to Your Registration System  <<<<<<<<<<\n",
      "\n",
      "    ==============================================================\n",
      "                       Registration System\n",
      "    ==============================================================\n",
      "    \n",
      "==================\n",
      ">>> Main Menu <<<\n",
      "==================\n",
      "\n",
      "1. Register\n",
      "2. Login\n",
      "3. Exit\n"
     ]
    },
    {
     "name": "stdin",
     "output_type": "stream",
     "text": [
      "\n",
      "Select option (1-3):  1\n"
     ]
    },
    {
     "name": "stdout",
     "output_type": "stream",
     "text": [
      "\n",
      "=====================\n",
      ">>> REGISTRATION <<<\n",
      "=====================\n",
      "\n"
     ]
    },
    {
     "name": "stdin",
     "output_type": "stream",
     "text": [
      "Enter username (must contain at least 1 letter):  huss1\n"
     ]
    },
    {
     "name": "stdout",
     "output_type": "stream",
     "text": [
      "\n",
      "Password rules:\n",
      "\n",
      "- Exactly 8 characters\n",
      "- Must contain both uppercase and lowercase letters\n",
      "- No numbers or special characters allowed\n",
      " \n"
     ]
    },
    {
     "name": "stdin",
     "output_type": "stream",
     "text": [
      "Enter password:  HusseinE\n",
      "Confirm password:  HusseinE\n",
      "Enter your full name (letters only):  hussein essam \n",
      "Enter your ID number (at least 8 digits):  20225142\n"
     ]
    },
    {
     "name": "stdout",
     "output_type": "stream",
     "text": [
      "\n",
      "Registration successful!\n",
      "==================\n",
      ">>> Main Menu <<<\n",
      "==================\n",
      "\n",
      "1. Register\n",
      "2. Login\n",
      "3. Exit\n"
     ]
    },
    {
     "name": "stdin",
     "output_type": "stream",
     "text": [
      "\n",
      "Select option (1-3):  2\n"
     ]
    },
    {
     "name": "stdout",
     "output_type": "stream",
     "text": [
      "\n",
      "==============\n",
      ">>> LOGIN <<<\n",
      "==============\n",
      "\n"
     ]
    },
    {
     "name": "stdin",
     "output_type": "stream",
     "text": [
      "Username:  huss1\n",
      "Password:  HusseinE\n"
     ]
    },
    {
     "name": "stdout",
     "output_type": "stream",
     "text": [
      "\n",
      "Welcome huss1!\n",
      "Login Successfully !\n",
      "==================\n",
      ">>> Main Menu <<<\n",
      "==================\n",
      "\n",
      "1. Register\n",
      "2. Login\n",
      "3. Exit\n"
     ]
    }
   ],
   "source": [
    "print(\">>>>>>>>>>  Welcome to Your Registration System  <<<<<<<<<<\")\n",
    "\n",
    "users = {}\n",
    "\n",
    "def register():\n",
    "    print(\"\\n=====================\")\n",
    "    print(\">>> REGISTRATION <<<\")\n",
    "    print(\"=====================\\n\")\n",
    "\n",
    "    while True:\n",
    "        username = input(\"Enter username (must contain at least 1 letter): \")\n",
    "        if any(c.isalpha() for c in username):\n",
    "            if username in users:\n",
    "                print(\"Username already exists!\")\n",
    "            else:\n",
    "                break\n",
    "        else:\n",
    "            print(\"Username must contain at least 1 letter!\")\n",
    "\n",
    "    while True:\n",
    "        print(\"\\nPassword rules:\\n\")\n",
    "        print(\"- Exactly 8 characters\")\n",
    "        print(\"- Must contain both uppercase and lowercase letters\")\n",
    "        print(\"- No numbers or special characters allowed\\n \")\n",
    "        password = input(\"Enter password: \")\n",
    "\n",
    "        if len(password) != 8:\n",
    "            print(\"Password must be exactly 8 characters!\")\n",
    "            continue\n",
    "        if not password.isalpha():\n",
    "            print(\"Password must contain only letters!\")\n",
    "            continue\n",
    "        if password == password.lower() or password == password.upper():\n",
    "            print(\"Password must have both uppercase and lowercase!\")\n",
    "            continue\n",
    "\n",
    "        confirm = input(\"Confirm password: \")\n",
    "        if password == confirm:\n",
    "            while True:\n",
    "                full_name = input(\"Enter your full name (letters only): \")\n",
    "                if all(c.isalpha() or c.isspace() for c in full_name):\n",
    "                    break\n",
    "                print(\"Full name can only contain letters and spaces!\")\n",
    "\n",
    "            while True:\n",
    "                id_num = input(\"Enter your ID number (at least 8 digits): \")\n",
    "                if id_num.isdigit() and len(id_num) >= 8:\n",
    "                    break\n",
    "                print(\"ID must be at least 8 digits\")\n",
    "\n",
    "            users[username] = {\n",
    "                'password': password,\n",
    "                'full_name': full_name,\n",
    "                'id_number': id_num\n",
    "            }\n",
    "            print(\"\\nRegistration successful!\")\n",
    "            break\n",
    "        else:\n",
    "            print(\"Passwords don't match! Please try again.\")\n",
    "\n",
    "#---------------\n",
    "\n",
    "def login():\n",
    "    print(\"\\n==============\")\n",
    "    print(\">>> LOGIN <<<\")\n",
    "    print(\"==============\\n\")\n",
    "    attempts = 3\n",
    "    while attempts > 0:\n",
    "        username = input(\"Username: \")\n",
    "        password = input(\"Password: \")\n",
    "\n",
    "        if username in users and users[username]['password'] == password:\n",
    "            print(f\"\\nWelcome {username}!\")\n",
    "            return username\n",
    "        else:\n",
    "            attempts -= 1\n",
    "            if attempts > 0:\n",
    "                print(f\"Incorrect username or password. {attempts} attempts remaining.\")\n",
    "            else:\n",
    "                print(\"No more attempts left. Returning to main menu.\")\n",
    "    return None\n",
    "\n",
    "\n",
    "\n",
    "# ------------ Main ------------\n",
    "def main():\n",
    "    print(\"\"\"\n",
    "    ==============================================================\n",
    "                       Registration System\n",
    "    ==============================================================\n",
    "    \"\"\")\n",
    "\n",
    "    while True:\n",
    "        print(\"==================\")\n",
    "        print(\">>> Main Menu <<<\")\n",
    "        print(\"==================\\n\")\n",
    "        print(\"1. Register\")\n",
    "        print(\"2. Login\")\n",
    "        print(\"3. Exit\")\n",
    "        choice = input(\"\\nSelect option (1-3): \")\n",
    "\n",
    "        if choice == \"1\":\n",
    "            register()\n",
    "        elif choice == \"2\":\n",
    "            username = login()\n",
    "            if username:\n",
    "                print(\"Login Successfully !\")\n",
    "        elif choice == \"3\":\n",
    "            print(\"Exiting system... Thank you !\")\n",
    "            break\n",
    "        else:\n",
    "            print(\"Invalid choice. Please enter 1, 2, or 3\")\n",
    "\n",
    "\n",
    "if __name__ == \"__main__\":\n",
    "    main()"
   ]
  },
  {
   "cell_type": "code",
   "execution_count": null,
   "id": "57ab276a-840e-4d86-83c3-a31050b2fea2",
   "metadata": {},
   "outputs": [],
   "source": []
  }
 ],
 "metadata": {
  "kernelspec": {
   "display_name": "Python 3 (ipykernel)",
   "language": "python",
   "name": "python3"
  },
  "language_info": {
   "codemirror_mode": {
    "name": "ipython",
    "version": 3
   },
   "file_extension": ".py",
   "mimetype": "text/x-python",
   "name": "python",
   "nbconvert_exporter": "python",
   "pygments_lexer": "ipython3",
   "version": "3.13.4"
  }
 },
 "nbformat": 4,
 "nbformat_minor": 5
}

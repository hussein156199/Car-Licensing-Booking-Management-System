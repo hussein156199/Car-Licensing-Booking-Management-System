{
 "cells": [
  {
   "cell_type": "code",
   "execution_count": 1,
   "id": "f393f5be-a0ff-44c0-b339-4c28eb3e9bff",
   "metadata": {},
   "outputs": [
    {
     "name": "stdout",
     "output_type": "stream",
     "text": [
      "\n",
      "       ==============================================================\n",
      "                               Calculate Mean and Mode \n",
      "       ==============================================================\n",
      "       \n",
      ">>>>>>>>>>>>>> Data Science <<<<<<<<<<<<<<\n",
      "\n",
      "Mean reservations per slot: 6.56\n",
      "Most crowded day: Wednesday\n",
      "Least crowded day: Thursday\n"
     ]
    }
   ],
   "source": [
    "new_car_id = [\n",
    "    [\"13-04-2025\", \"Sunday\", [6, 10, 1, 10, 7]],\n",
    "    [\"14-04-2025\", \"Monday\", [10, 2, 10, 6, 4]],\n",
    "    [\"15-04-2025\", \"Tuesday\", [3, 1, 10, 10, 9]],\n",
    "    [\"16-04-2025\", \"Wednesday\", [10, 8, 10, 7, 3]],\n",
    "    [\"17-04-2025\", \"Thursday\", [2, 10, 4, 10, 1]]\n",
    "]\n",
    "\n",
    "\n",
    "def calculate_mean(service_data):\n",
    "\n",
    "    total = sum(sum(day[2]) for day in service_data)\n",
    "    count = len(service_data) * len(service_data[0][2])\n",
    "    return total / count\n",
    "\n",
    "#-------------\n",
    "\n",
    "\n",
    "def most_crowded_day(service_data):\n",
    "\n",
    "    day_totals = [(day[0], day[1], sum(day[2])) for day in service_data]\n",
    "    return max(day_totals, key=lambda x: x[2])[1]\n",
    "\n",
    "#--------------\n",
    "\n",
    "def least_crowded_day(service_data):\n",
    "\n",
    "    day_totals = [(day[0], day[1], sum(day[2])) for day in service_data]\n",
    "    return min(day_totals, key=lambda x: x[2])[1]\n",
    "\n",
    "#--------------\n",
    "\n",
    "def run_data_analysis():\n",
    "\n",
    "    print(\">>>>>>>>>>>>>> Data Science <<<<<<<<<<<<<<\\n\")\n",
    "    print(f\"Mean reservations per slot: {calculate_mean(new_car_id):.2f}\")\n",
    "    print(f\"Most crowded day: {most_crowded_day(new_car_id)}\")\n",
    "    print(f\"Least crowded day: {least_crowded_day(new_car_id)}\")\n",
    "\n",
    "#----------- Main ----------\n",
    "\n",
    "def main():\n",
    "    print(\"\"\"\n",
    "       ==============================================================\n",
    "                               Calculate Mean and Mode \n",
    "       ==============================================================\n",
    "       \"\"\")\n",
    "\n",
    "    run_data_analysis()\n",
    "if __name__ == \"__main__\":\n",
    "    main()"
   ]
  },
  {
   "cell_type": "code",
   "execution_count": null,
   "id": "700d0f35-9015-4346-adf6-7ca44e41ab7a",
   "metadata": {},
   "outputs": [],
   "source": []
  }
 ],
 "metadata": {
  "kernelspec": {
   "display_name": "Python 3 (ipykernel)",
   "language": "python",
   "name": "python3"
  },
  "language_info": {
   "codemirror_mode": {
    "name": "ipython",
    "version": 3
   },
   "file_extension": ".py",
   "mimetype": "text/x-python",
   "name": "python",
   "nbconvert_exporter": "python",
   "pygments_lexer": "ipython3",
   "version": "3.13.4"
  }
 },
 "nbformat": 4,
 "nbformat_minor": 5
}
